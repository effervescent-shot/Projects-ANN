{
 "cells": [
  {
   "cell_type": "markdown",
   "metadata": {},
   "source": [
    "# Miniproject 1: Image Classification\n",
    "\n",
    "## Introduction\n",
    "\n",
    "### Important dates:\n",
    "\n",
    "- Project release: Friday, 15th March 2019\n",
    "- **Submission deadline**: Monday, 29th April 2019, 11:59 pm\n",
    "\n",
    "### Description\n",
    "\n",
    "One of the deepest traditions in learning about deep learning is to first [tackle the exciting problem of MNIST classification](http://yann.lecun.com/exdb/mnist/). [The MNIST database](https://en.wikipedia.org/wiki/MNIST_database) (Modified National Institute of Standards and Technology database) is a large database of handwritten digits that is commonly used as a first test for new classification algorithms. \n",
    "We follow this tradition to investigate the performance of artificial neural networks of different complexity on MNIST. However, since MNIST is too easy for accessing the full power of modern machine learning algorithms (see e.g. [this post](https://twitter.com/goodfellow_ian/status/852591106655043584)) we will extend our analysis to the recently introduced, harder [Fashion-MNIST dataset](https://github.com/zalandoresearch/fashion-mnist).\n",
    "\n",
    "\n",
    "### Prerequisites\n",
    "\n",
    "- You should have a running installation of [tensorflow](https://www.tensorflow.org/install/) and [keras](https://keras.io/). Feel free to gain inspiration from the [Keras example directory](https://github.com/keras-team/keras/tree/master/examples) for your implementations.\n",
    "- You should know the concepts \"multilayer perceptron\", \"stochastic gradient descent with minibatches\", \"convolutional neural network\", \"training and validation data\", \"overfitting\" and \"early stopping\".\n",
    "\n",
    "### What you will learn\n",
    "\n",
    "- You will learn how to define feedforward neural networks in keras and fit them to data.\n",
    "- You will be guided through a prototyping procedure for the application of deep learning to a specific domain.\n",
    "- You will get in contact with concepts discussed later in the lecture, like \"regularization\", \"batch normalization\" and \"convolutional networks\".\n",
    "- You will gain some experience on the influence of network architecture, optimizer and regularization choices on the goodness of fit.\n",
    "- You will learn to be more patient :) Some fits may take your computer quite a bit of time; run them over night (or on an external server).\n",
    "\n",
    "### Evaluation criteria\n",
    "\n",
    "The evaluation is (mostly) based on the figures you submit and your answer sentences. Provide clear and concise answers respecting the indicated maximum length (answers to the questions should be below the line that says \"Answer to question ...\").\n",
    "\n",
    "**The submitted notebook must be run by you!** We will only do random tests of your code and not re-run the full notebook. There will be fraud detection sessions at the end of the semester.\n",
    "\n",
    "### Your names\n",
    "\n",
    "**Before you start**: please enter your full name(s) in the field below."
   ]
  },
  {
   "cell_type": "code",
   "execution_count": 1,
   "metadata": {
    "ExecuteTime": {
     "end_time": "2018-03-09T09:08:24.514461Z",
     "start_time": "2018-03-09T09:08:24.506410Z"
    }
   },
   "outputs": [],
   "source": [
    "student1 = \"Nihal Ezgi Yücetürk\"\n",
    "student2 = \"Atakan Büyükoğlu\""
   ]
  },
  {
   "cell_type": "markdown",
   "metadata": {
    "ExecuteTime": {
     "end_time": "2018-02-22T21:52:59.697375Z",
     "start_time": "2018-02-22T21:52:59.689443Z"
    }
   },
   "source": [
    "## Some helper functions\n",
    "\n",
    "For your convenience we provide here some functions to preprocess the data and plot the results later. Simply run the following cells with `Shift-Enter`.\n",
    "\n",
    "### Dependencies and constants"
   ]
  },
  {
   "cell_type": "code",
   "execution_count": 112,
   "metadata": {
    "ExecuteTime": {
     "end_time": "2018-02-23T14:27:09.352019Z",
     "start_time": "2018-02-23T14:27:08.476310Z"
    }
   },
   "outputs": [],
   "source": [
    "%matplotlib inline\n",
    "\n",
    "import numpy as np\n",
    "import time\n",
    "import matplotlib.pyplot as plt\n",
    "import scipy.io\n",
    "\n",
    "import keras\n",
    "from keras.models import Sequential\n",
    "from keras.layers import Dense, Conv2D, MaxPooling2D, Dropout, Flatten, BatchNormalization\n",
    "from keras.optimizers import SGD, Adam\n",
    "from keras.regularizers import l1, l2\n",
    "from keras.initializers import RandomNormal"
   ]
  },
  {
   "cell_type": "markdown",
   "metadata": {},
   "source": [
    "### Plotting"
   ]
  },
  {
   "cell_type": "code",
   "execution_count": 23,
   "metadata": {
    "ExecuteTime": {
     "end_time": "2018-02-23T15:11:52.252208Z",
     "start_time": "2018-02-23T15:11:52.121360Z"
    }
   },
   "outputs": [],
   "source": [
    "def plot_some_samples(x, y = [], yhat = [], select_from = [], \n",
    "                      ncols = 6, nrows = 4, xdim = 28, ydim = 28,\n",
    "                      label_mapping = range(10)):\n",
    "    \"\"\"plot some input vectors as grayscale images (optionally together with their assigned or predicted labels).\n",
    "    \n",
    "    x is an NxD - dimensional array, where D is the length of an input vector and N is the number of samples.\n",
    "    Out of the N samples, ncols x nrows indices are randomly selected from the list select_from (if it is empty, select_from becomes range(N)).\n",
    "    \n",
    "    Keyword arguments:\n",
    "    y             -- corresponding labels to plot in green below each image.\n",
    "    yhat          -- corresponding predicted labels to plot in red below each image.\n",
    "    select_from   -- list of indices from which to select the images.\n",
    "    ncols, nrows  -- number of columns and rows to plot.\n",
    "    xdim, ydim    -- number of pixels of the images in x- and y-direction.\n",
    "    label_mapping -- map labels to digits.\n",
    "    \n",
    "    \"\"\"\n",
    "    fig, ax = plt.subplots(nrows, ncols)\n",
    "    if len(select_from) == 0:\n",
    "        select_from = range(x.shape[0])\n",
    "    indices = np.random.choice(select_from, size = min(ncols * nrows, len(select_from)), replace = False)\n",
    "    for i, ind in enumerate(indices):\n",
    "        thisax = ax[i//ncols,i%ncols]\n",
    "        thisax.matshow(x[ind].reshape(xdim, ydim), cmap='gray')\n",
    "        thisax.set_axis_off()\n",
    "        if len(y) != 0:\n",
    "            j = y[ind] if type(y[ind]) != np.ndarray else y[ind].argmax()\n",
    "            thisax.text(0, 0, (label_mapping[j])%10, color='green', #deleted +1 after label_mapping[j]\n",
    "                                                       verticalalignment='top',\n",
    "                                                       transform=thisax.transAxes)\n",
    "        if len(yhat) != 0:\n",
    "            k = yhat[ind] if type(yhat[ind]) != np.ndarray else yhat[ind].argmax()\n",
    "            thisax.text(1, 0, (label_mapping[k])%10, color='red',\n",
    "                                             verticalalignment='top',\n",
    "                                             horizontalalignment='right',\n",
    "                                             transform=thisax.transAxes)\n",
    "    return fig\n",
    "\n",
    "def prepare_standardplot(title, xlabel):\n",
    "    fig, (ax1, ax2) = plt.subplots(1, 2)\n",
    "    fig.suptitle(title)\n",
    "    ax1.set_ylabel('categorical cross entropy')\n",
    "    ax1.set_xlabel(xlabel)\n",
    "    ax1.set_yscale('log')\n",
    "    ax2.set_ylabel('accuracy [% correct]')\n",
    "    ax2.set_xlabel(xlabel)\n",
    "    return fig, ax1, ax2\n",
    "\n",
    "def finalize_standardplot(fig, ax1, ax2):\n",
    "    ax1handles, ax1labels = ax1.get_legend_handles_labels()\n",
    "    if len(ax1labels) > 0:\n",
    "        ax1.legend(ax1handles, ax1labels)\n",
    "    ax2handles, ax2labels = ax2.get_legend_handles_labels()\n",
    "    if len(ax2labels) > 0:\n",
    "        ax2.legend(ax2handles, ax2labels)\n",
    "    fig.tight_layout()\n",
    "    plt.subplots_adjust(top=0.9)\n",
    "\n",
    "def plot_history(history, title):\n",
    "    fig, ax1, ax2 = prepare_standardplot(title, 'epoch')\n",
    "    ax1.plot(history.history['loss'], label = \"training\")\n",
    "    ax1.plot(history.history['val_loss'], label = \"validation\")\n",
    "    ax2.plot(history.history['acc'], label = \"training\")\n",
    "    ax2.plot(history.history['val_acc'], label = \"validation\")\n",
    "    finalize_standardplot(fig, ax1, ax2)\n",
    "    return fig\n"
   ]
  },
  {
   "cell_type": "markdown",
   "metadata": {},
   "source": [
    "## Exercise 1: Data import and visualization (4 points)\n",
    "\n",
    "### Description\n",
    "\n",
    "### Loading the data\n",
    "\n",
    "The datasets we use in this project (MNIST, Fashion-MNIST) consists of grayscale images with 28x28 pixels. Keras comes with a convenient in-built [data importer](https://keras.io/datasets/) for common datasets.\n",
    "\n",
    "1. As a warm-up exercise, use this importer to (down-)load the MNIST and Fashion-MNIST dataset. Assign useful variables to test & train images and labels for both datasets respectively. (2 pts)\n",
    "2. Use the corresponding plotting function defined above to plot some samples of the two datasets. What do the green digits at the bottom left of each image indicate? (1 sentence max.) (2 pts)\n",
    "\n",
    "The low resolution (and grayscale) of the images certainly misses some information that could be helpful for classifying the images. However, since the data has lower dimensionality due to the low resolution, the fitting procedures converge faster. This is an advantage in situations like here (or generally when prototyping), were we want to try many different things without having to wait too long for computations to finish.\n",
    "\n"
   ]
  },
  {
   "cell_type": "markdown",
   "metadata": {},
   "source": [
    "### Solution"
   ]
  },
  {
   "cell_type": "code",
   "execution_count": 24,
   "metadata": {
    "ExecuteTime": {
     "end_time": "2018-02-23T14:27:44.442862Z",
     "start_time": "2018-02-23T14:27:09.505547Z"
    }
   },
   "outputs": [
    {
     "data": {
      "image/png": "[encoded data removed]",
      "text/plain": [
       "<Figure size 432x288 with 24 Axes>"
      ]
     },
     "execution_count": 24,
     "metadata": {},
     "output_type": "execute_result"
    },
    {
     "data": {
      "image/png": "[encoded data removed]",
      "text/plain": [
       "<Figure size 432x288 with 24 Axes>"
      ]
     },
     "metadata": {
      "needs_background": "light"
     },
     "output_type": "display_data"
    }
   ],
   "source": [
    "from keras.datasets import mnist, fashion_mnist\n",
    "\n",
    "(x_train, y_train), (x_test, y_test) = mnist.load_data()\n",
    "(x_fashion_train, y_fashion_train), (x_fashion_test, y_fashion_test) = fashion_mnist.load_data()\n",
    "\n",
    "plot_some_samples(x_train, y_train)"
   ]
  },
  {
   "cell_type": "markdown",
   "metadata": {},
   "source": [
    "Answer to question 2:\n",
    "Numbers in green idicate the image labels"
   ]
  },
  {
   "cell_type": "markdown",
   "metadata": {},
   "source": [
    "**Data pre-processing**: To prepare for fitting we transform the labels to one hot coding, i.e. for 5 classes, label 2 becomes the vector [0, 0, 1, 0, 0] (python uses 0-indexing). Furthermore we reshape (flatten) the input images to input vectors and rescale the data into the range [0,1]."
   ]
  },
  {
   "cell_type": "code",
   "execution_count": 27,
   "metadata": {},
   "outputs": [],
   "source": [
    "y_train = keras.utils.to_categorical(y_train)\n",
    "y_test = keras.utils.to_categorical(y_test)\n",
    "\n",
    "y_fashion_train = keras.utils.to_categorical(y_fashion_train)\n",
    "y_fashion_test = keras.utils.to_categorical(y_fashion_test)"
   ]
  },
  {
   "cell_type": "code",
   "execution_count": 28,
   "metadata": {},
   "outputs": [],
   "source": [
    "x_train = x_train.reshape(x_train.shape[0], x_train.shape[1]*x_train.shape[2])/np.max(x_train)\n",
    "x_test = x_test.reshape(x_test.shape[0], x_test.shape[1]*x_test.shape[2])/np.max(x_test)\n",
    "\n",
    "x_fashion_train = x_fashion_train.reshape(x_fashion_train.shape[0], x_fashion_train.shape[1]*x_fashion_train.shape[2])/np.max(x_fashion_train)\n",
    "x_fashion_test = x_fashion_test.reshape(x_fashion_test.shape[0], x_fashion_test.shape[1]*x_fashion_test.shape[2])/np.max(x_fashion_test)"
   ]
  },
  {
   "cell_type": "markdown",
   "metadata": {},
   "source": [
    "## Exercise 2: No hidden layer (10 points)\n",
    "\n",
    "### Description\n",
    "\n",
    "Define and fit a model without a hidden layer (since we will use multi-layer models later in this project, you can define a general constructor function for models with an arbitrary number of hidden layers already at this point). (1 pt for each step)\n",
    "\n",
    "1. Use the softmax activation for the output layer.\n",
    "2. Use the categorical_crossentropy loss.\n",
    "3. Add the accuracy metric to the metrics.\n",
    "4. Choose stochastic gradient descent for the optimizer.\n",
    "5. Choose a minibatch size of 128.\n",
    "6. Fit for as many epochs as needed to see no further decrease in the validation loss.\n",
    "7. Plot the output of the fitting procedure (a history object) using the function plot_history defined above.\n",
    "8. Determine the indices of all test images that are misclassified by the fitted model and plot some of them using the function \n",
    "   `plot_some_samples(x_test, y_test, yhat_test, error_indices)`. Explain the green and red digits at the bottom of each image.\n",
    "9. Repeat the above steps for fitting the network to the Fashion-MNIST dataset.\n",
    "\n",
    "\n",
    "Hints:\n",
    "* Read the keras docs, in particular [Getting started with the Keras Sequential model](https://keras.io/getting-started/sequential-model-guide/).\n",
    "* Have a look at the keras [examples](https://github.com/keras-team/keras/tree/master/examples), e.g. [mnist_mlp](https://github.com/keras-team/keras/blob/master/examples/mnist_mlp.py)."
   ]
  },
  {
   "cell_type": "markdown",
   "metadata": {},
   "source": [
    "### Solution"
   ]
  },
  {
   "cell_type": "code",
   "execution_count": 29,
   "metadata": {},
   "outputs": [
    {
     "data": {
      "text/plain": [
       "(784,)"
      ]
     },
     "execution_count": 29,
     "metadata": {},
     "output_type": "execute_result"
    }
   ],
   "source": [
    "x_train[0].shape"
   ]
  },
  {
   "cell_type": "code",
   "execution_count": 13,
   "metadata": {},
   "outputs": [],
   "source": [
    "num_classes = 10\n",
    "in_shape = x_train[0].shape\n",
    "batch_size = 128\n",
    "epochs = 50"
   ]
  },
  {
   "cell_type": "code",
   "execution_count": 120,
   "metadata": {},
   "outputs": [
    {
     "name": "stdout",
     "output_type": "stream",
     "text": [
      "_________________________________________________________________\n",
      "Layer (type)                 Output Shape              Param #   \n",
      "=================================================================\n",
      "dense_88 (Dense)             (None, 10)                7850      \n",
      "=================================================================\n",
      "Total params: 7,850\n",
      "Trainable params: 7,850\n",
      "Non-trainable params: 0\n",
      "_________________________________________________________________\n"
     ]
    }
   ],
   "source": [
    "from keras.callbacks import Callback\n",
    "\n",
    "class stopAtLossValue(Callback):\n",
    "        #prev_loss = np.Infinity\n",
    "        prev_acc = 0\n",
    "        def on_epoch_end(self, epoch, logs={}):\n",
    "            eps = 0.01 \n",
    "            #loss = logs.get('loss')\n",
    "            acc  = logs.get('val_acc')\n",
    "            if (self.prev_acc - acc) >= eps:\n",
    "                self.model.stop_training = True\n",
    "                self.prev_acc = 0\n",
    "            else:\n",
    "                self.prev_acc = acc\n",
    "\n",
    "model = Sequential()\n",
    "model.add(Dense(num_classes, activation='softmax', input_shape=in_shape))\n",
    "#model.add(Dense(num_classes, activation='softmax'))\n",
    "model.summary()\n",
    "\n",
    "model.compile(loss='categorical_crossentropy',\n",
    "              optimizer='SGD',\n",
    "              metrics=['accuracy'])"
   ]
  },
  {
   "cell_type": "code",
   "execution_count": 122,
   "metadata": {},
   "outputs": [],
   "source": [
    "callbacks = [\n",
    "    stopAtLossValue(),\n",
    "]"
   ]
  },
  {
   "cell_type": "code",
   "execution_count": 40,
   "metadata": {},
   "outputs": [
    {
     "name": "stdout",
     "output_type": "stream",
     "text": [
      "Train on 51000 samples, validate on 9000 samples\n",
      "Epoch 1/50\n",
      "51000/51000 [==============================] - 1s 20us/step - loss: 1.3239 - acc: 0.6860 - val_loss: 0.8379 - val_acc: 0.8434\n",
      "Epoch 2/50\n",
      "51000/51000 [==============================] - 1s 18us/step - loss: 0.7648 - acc: 0.8316 - val_loss: 0.6163 - val_acc: 0.8707\n",
      "Epoch 3/50\n",
      "51000/51000 [==============================] - 1s 18us/step - loss: 0.6255 - acc: 0.8524 - val_loss: 0.5271 - val_acc: 0.8790\n",
      "Epoch 4/50\n",
      "51000/51000 [==============================] - 1s 18us/step - loss: 0.5580 - acc: 0.8632 - val_loss: 0.4775 - val_acc: 0.8862\n",
      "Epoch 5/50\n",
      "51000/51000 [==============================] - 1s 18us/step - loss: 0.5166 - acc: 0.8696 - val_loss: 0.4459 - val_acc: 0.8909\n",
      "Epoch 6/50\n",
      "51000/51000 [==============================] - 1s 18us/step - loss: 0.4881 - acc: 0.8747 - val_loss: 0.4232 - val_acc: 0.8939\n",
      "Epoch 7/50\n",
      "51000/51000 [==============================] - 1s 22us/step - loss: 0.4669 - acc: 0.8787 - val_loss: 0.4061 - val_acc: 0.8966\n",
      "Epoch 8/50\n",
      "51000/51000 [==============================] - 1s 18us/step - loss: 0.4504 - acc: 0.8817 - val_loss: 0.3927 - val_acc: 0.9004\n",
      "Epoch 9/50\n",
      "51000/51000 [==============================] - 1s 19us/step - loss: 0.4371 - acc: 0.8847 - val_loss: 0.3824 - val_acc: 0.9009\n",
      "Epoch 10/50\n",
      "51000/51000 [==============================] - 1s 19us/step - loss: 0.4261 - acc: 0.8865 - val_loss: 0.3732 - val_acc: 0.9041\n",
      "Epoch 11/50\n",
      "51000/51000 [==============================] - 1s 18us/step - loss: 0.4167 - acc: 0.8879 - val_loss: 0.3654 - val_acc: 0.9044\n"
     ]
    }
   ],
   "source": [
    "history = model.fit(x_train, y_train,\n",
    "                    batch_size=batch_size,\n",
    "                    epochs=epochs,\n",
    "                    verbose=1,\n",
    "                    callbacks = callbacks, validation_split = 0.15 )\n"
   ]
  },
  {
   "cell_type": "code",
   "execution_count": 41,
   "metadata": {},
   "outputs": [
    {
     "data": {
      "image/png": "[encoded data removed]",
      "text/plain": [
       "<Figure size 432x288 with 2 Axes>"
      ]
     },
     "metadata": {
      "needs_background": "light"
     },
     "output_type": "display_data"
    }
   ],
   "source": [
    "plot_history(history, \"Here is the title\");"
   ]
  },
  {
   "cell_type": "code",
   "execution_count": 42,
   "metadata": {},
   "outputs": [],
   "source": [
    "def misclassed_incides():\n",
    "    pred_y = model.predict_classes(x_test)\n",
    "    y_orig = np.argmax(y_test, axis=1)\n",
    "    if len(pred_y)!= len(y_orig):\n",
    "        raise ValueError('LEnght mismatch')\n",
    "    err = np.nonzero(pred_y - y_orig)[0]\n",
    "    plot_some_samples(x_test, y_orig, pred_y, select_from=err)"
   ]
  },
  {
   "cell_type": "code",
   "execution_count": 43,
   "metadata": {},
   "outputs": [
    {
     "data": {
      "image/png": "[encoded data removed]",
      "text/plain": [
       "<Figure size 432x288 with 24 Axes>"
      ]
     },
     "metadata": {
      "needs_background": "light"
     },
     "output_type": "display_data"
    }
   ],
   "source": [
    "misclassed_incides()"
   ]
  },
  {
   "cell_type": "markdown",
   "metadata": {},
   "source": [
    "Answer to question 10: Green ones are the true lables of the data points whereas the red ones are what our model predicted for the corresponding data point"
   ]
  },
  {
   "cell_type": "markdown",
   "metadata": {},
   "source": [
    "## Exercise 3: One hidden layer, different optizimizers & overfitting (10 points)\n",
    "\n",
    "### Description\n",
    "\n",
    "Train a network with one hidden layer and compare different optimizers.\n",
    "\n",
    "1. Use one hidden layer with 128 units and the 'relu' activation. Use the [summary method](https://keras.io/models/about-keras-models/) to display your model in a compact way. (1 pt)\n",
    "2. Fit the model for 50 epochs with different learning rates of stochastic gradient descent (SGD). (1pt)\n",
    "3. Replace the stochastic gradient descent optimizer with the [Adam optimizer](https://keras.io/optimizers/#adam). (1pt)\n",
    "4. Plot the learning curves of SGD with a reasonable learning rate (i.e. in the range [0.01,0.1]) together with the learning curves of Adam in the same figure. Take care of a reasonable labeling of the curves in the plot. (2pts)\n",
    "5. Answer the questions below. (4pts)\n",
    "6. Run the network (using the Adam optimizer) on the Fashion-MNIST dataset and plot the learning curves using the plot_history function defined above. (1pt)"
   ]
  },
  {
   "cell_type": "markdown",
   "metadata": {},
   "source": [
    "### Solution"
   ]
  },
  {
   "cell_type": "code",
   "execution_count": 76,
   "metadata": {},
   "outputs": [
    {
     "name": "stdout",
     "output_type": "stream",
     "text": [
      "_________________________________________________________________\n",
      "Layer (type)                 Output Shape              Param #   \n",
      "=================================================================\n",
      "dense_9 (Dense)              (None, 128)               100480    \n",
      "_________________________________________________________________\n",
      "dense_10 (Dense)             (None, 10)                1290      \n",
      "=================================================================\n",
      "Total params: 101,770\n",
      "Trainable params: 101,770\n",
      "Non-trainable params: 0\n",
      "_________________________________________________________________\n"
     ]
    }
   ],
   "source": [
    "# Part 1\n",
    "def model_Q3():\n",
    "    # Create the model\n",
    "    model = Sequential()\n",
    "\n",
    "    # Add the layers\n",
    "    model.add(Dense(128, activation='relu', input_shape=in_shape))\n",
    "    model.add(Dense(num_classes, activation='softmax'))\n",
    "    return model\n",
    "\n",
    "model_Q3().summary()"
   ]
  },
  {
   "cell_type": "code",
   "execution_count": 71,
   "metadata": {},
   "outputs": [],
   "source": [
    "lr_list = np.arange(0.01,0.11,0.01)\n",
    "batch_size = 128\n",
    "epochs = 50"
   ]
  },
  {
   "cell_type": "code",
   "execution_count": 55,
   "metadata": {},
   "outputs": [],
   "source": [
    "# Part 2\n",
    "sgd_acc_list = []\n",
    "model = model_Q3()\n",
    "for lr_ in lr_list:\n",
    "# Add the learnig rate parameter to the model\n",
    "    sgd = SGD(lr=lr_)\n",
    "    model.compile(loss='categorical_crossentropy',\n",
    "              optimizer=sgd,\n",
    "              metrics=['accuracy'])\n",
    "\n",
    "\n",
    "# Fit the model\n",
    "    history_sgd = model.fit(x_train, y_train,\n",
    "                    batch_size=batch_size,\n",
    "                    epochs=epochs,\n",
    "                    verbose=0,\n",
    "                    callbacks = callbacks, validation_data = (x_test, y_test) )\n",
    "    \n",
    "    sgd_acc_list.append(history_sgd.history['acc'][-1])\n"
   ]
  },
  {
   "cell_type": "code",
   "execution_count": 72,
   "metadata": {},
   "outputs": [
    {
     "data": {
      "text/plain": [
       "0.04"
      ]
     },
     "execution_count": 72,
     "metadata": {},
     "output_type": "execute_result"
    }
   ],
   "source": [
    "lr_chosen = lr_list[np.argmax(sgd_acc_list)]\n",
    "lr_chosen"
   ]
  },
  {
   "cell_type": "code",
   "execution_count": 78,
   "metadata": {},
   "outputs": [
    {
     "name": "stdout",
     "output_type": "stream",
     "text": [
      "Train on 60000 samples, validate on 10000 samples\n",
      "Epoch 1/50\n",
      "60000/60000 [==============================] - 3s 56us/step - loss: 0.6342 - acc: 0.8385 - val_loss: 0.3593 - val_acc: 0.8991\n",
      "Epoch 2/50\n",
      "60000/60000 [==============================] - 2s 32us/step - loss: 0.3398 - acc: 0.9047 - val_loss: 0.2980 - val_acc: 0.9174\n",
      "Epoch 3/50\n",
      "60000/60000 [==============================] - 2s 31us/step - loss: 0.2916 - acc: 0.9179 - val_loss: 0.2637 - val_acc: 0.9242\n",
      "Epoch 4/50\n",
      "60000/60000 [==============================] - 2s 33us/step - loss: 0.2613 - acc: 0.9265 - val_loss: 0.2386 - val_acc: 0.9327\n",
      "Epoch 5/50\n",
      "60000/60000 [==============================] - 2s 32us/step - loss: 0.2379 - acc: 0.9335 - val_loss: 0.2199 - val_acc: 0.9380\n",
      "Epoch 6/50\n",
      "60000/60000 [==============================] - 2s 32us/step - loss: 0.2191 - acc: 0.9387 - val_loss: 0.2062 - val_acc: 0.9420\n",
      "Epoch 7/50\n",
      "60000/60000 [==============================] - 2s 32us/step - loss: 0.2033 - acc: 0.9434 - val_loss: 0.1927 - val_acc: 0.9437\n",
      "Epoch 8/50\n",
      "60000/60000 [==============================] - 2s 35us/step - loss: 0.1899 - acc: 0.9466 - val_loss: 0.1802 - val_acc: 0.9481\n",
      "Epoch 9/50\n",
      "60000/60000 [==============================] - 2s 34us/step - loss: 0.1780 - acc: 0.9504 - val_loss: 0.1732 - val_acc: 0.9498\n",
      "Epoch 10/50\n",
      "60000/60000 [==============================] - 2s 31us/step - loss: 0.1674 - acc: 0.9527 - val_loss: 0.1635 - val_acc: 0.9528\n",
      "Epoch 11/50\n",
      "60000/60000 [==============================] - 2s 38us/step - loss: 0.1583 - acc: 0.9558 - val_loss: 0.1568 - val_acc: 0.9548\n",
      "Epoch 12/50\n",
      "60000/60000 [==============================] - 3s 44us/step - loss: 0.1502 - acc: 0.9579 - val_loss: 0.1500 - val_acc: 0.9557\n",
      "Epoch 13/50\n",
      "60000/60000 [==============================] - 2s 38us/step - loss: 0.1429 - acc: 0.9606 - val_loss: 0.1434 - val_acc: 0.9591\n",
      "Epoch 14/50\n",
      "60000/60000 [==============================] - 2s 31us/step - loss: 0.1361 - acc: 0.9622 - val_loss: 0.1377 - val_acc: 0.9605\n",
      "Epoch 15/50\n",
      "60000/60000 [==============================] - 2s 33us/step - loss: 0.1301 - acc: 0.9642 - val_loss: 0.1352 - val_acc: 0.9619\n",
      "Epoch 16/50\n",
      "60000/60000 [==============================] - 3s 47us/step - loss: 0.1245 - acc: 0.9651 - val_loss: 0.1284 - val_acc: 0.9629\n",
      "Epoch 17/50\n",
      "60000/60000 [==============================] - 2s 40us/step - loss: 0.1195 - acc: 0.9672 - val_loss: 0.1252 - val_acc: 0.9642\n",
      "Epoch 18/50\n",
      "60000/60000 [==============================] - 2s 35us/step - loss: 0.1145 - acc: 0.9685 - val_loss: 0.1224 - val_acc: 0.9651\n",
      "Epoch 19/50\n",
      "60000/60000 [==============================] - 2s 31us/step - loss: 0.1103 - acc: 0.9697 - val_loss: 0.1189 - val_acc: 0.9660\n",
      "Epoch 20/50\n",
      "60000/60000 [==============================] - 2s 32us/step - loss: 0.1061 - acc: 0.9703 - val_loss: 0.1147 - val_acc: 0.9667\n",
      "Epoch 21/50\n",
      "60000/60000 [==============================] - 2s 29us/step - loss: 0.1026 - acc: 0.9720 - val_loss: 0.1118 - val_acc: 0.9678\n",
      "Epoch 22/50\n",
      "60000/60000 [==============================] - 2s 29us/step - loss: 0.0989 - acc: 0.9728 - val_loss: 0.1100 - val_acc: 0.9690\n",
      "Epoch 23/50\n",
      "60000/60000 [==============================] - 2s 37us/step - loss: 0.0956 - acc: 0.9737 - val_loss: 0.1068 - val_acc: 0.9686\n",
      "Epoch 24/50\n",
      "60000/60000 [==============================] - 2s 40us/step - loss: 0.0924 - acc: 0.9749 - val_loss: 0.1057 - val_acc: 0.9689\n",
      "Epoch 25/50\n",
      "60000/60000 [==============================] - 2s 34us/step - loss: 0.0894 - acc: 0.9758 - val_loss: 0.1039 - val_acc: 0.9697\n",
      "Epoch 26/50\n",
      "60000/60000 [==============================] - 2s 30us/step - loss: 0.0866 - acc: 0.9767 - val_loss: 0.1021 - val_acc: 0.9704\n",
      "Epoch 27/50\n",
      "60000/60000 [==============================] - 2s 36us/step - loss: 0.0843 - acc: 0.9773 - val_loss: 0.0994 - val_acc: 0.9710\n",
      "Epoch 28/50\n",
      "60000/60000 [==============================] - 2s 31us/step - loss: 0.0816 - acc: 0.9779 - val_loss: 0.0979 - val_acc: 0.9714\n",
      "Epoch 29/50\n",
      "60000/60000 [==============================] - 2s 35us/step - loss: 0.0794 - acc: 0.9785 - val_loss: 0.0954 - val_acc: 0.9714\n",
      "Epoch 30/50\n",
      "60000/60000 [==============================] - 2s 32us/step - loss: 0.0771 - acc: 0.9791 - val_loss: 0.0950 - val_acc: 0.9709\n",
      "Epoch 31/50\n",
      "60000/60000 [==============================] - 2s 31us/step - loss: 0.0751 - acc: 0.9797 - val_loss: 0.0928 - val_acc: 0.9718\n",
      "Epoch 32/50\n",
      "60000/60000 [==============================] - 2s 30us/step - loss: 0.0729 - acc: 0.9805 - val_loss: 0.0910 - val_acc: 0.9730\n",
      "Epoch 33/50\n",
      "60000/60000 [==============================] - 2s 31us/step - loss: 0.0710 - acc: 0.9809 - val_loss: 0.0908 - val_acc: 0.9728\n",
      "Epoch 34/50\n",
      "60000/60000 [==============================] - 2s 32us/step - loss: 0.0692 - acc: 0.9814 - val_loss: 0.0903 - val_acc: 0.9726\n",
      "Epoch 35/50\n",
      "60000/60000 [==============================] - 2s 31us/step - loss: 0.0675 - acc: 0.9823 - val_loss: 0.0896 - val_acc: 0.9729\n",
      "Epoch 36/50\n",
      "60000/60000 [==============================] - 2s 35us/step - loss: 0.0658 - acc: 0.9828 - val_loss: 0.0878 - val_acc: 0.9738\n",
      "Epoch 37/50\n",
      "60000/60000 [==============================] - 2s 29us/step - loss: 0.0640 - acc: 0.9833 - val_loss: 0.0859 - val_acc: 0.9749\n",
      "Epoch 38/50\n",
      "60000/60000 [==============================] - 2s 29us/step - loss: 0.0627 - acc: 0.9837 - val_loss: 0.0851 - val_acc: 0.9757\n",
      "Epoch 39/50\n",
      "60000/60000 [==============================] - 2s 29us/step - loss: 0.0612 - acc: 0.9840 - val_loss: 0.0851 - val_acc: 0.9754\n",
      "Epoch 40/50\n",
      "60000/60000 [==============================] - 2s 30us/step - loss: 0.0596 - acc: 0.9846 - val_loss: 0.0862 - val_acc: 0.9744\n",
      "Epoch 41/50\n",
      "60000/60000 [==============================] - 2s 29us/step - loss: 0.0583 - acc: 0.9851 - val_loss: 0.0823 - val_acc: 0.9761\n",
      "Epoch 42/50\n",
      "60000/60000 [==============================] - 2s 29us/step - loss: 0.0569 - acc: 0.9852 - val_loss: 0.0825 - val_acc: 0.9762\n",
      "Epoch 43/50\n",
      "60000/60000 [==============================] - 2s 30us/step - loss: 0.0557 - acc: 0.9856 - val_loss: 0.0814 - val_acc: 0.9763\n",
      "Epoch 44/50\n",
      "60000/60000 [==============================] - 2s 30us/step - loss: 0.0543 - acc: 0.9860 - val_loss: 0.0804 - val_acc: 0.9763\n",
      "Epoch 45/50\n",
      "60000/60000 [==============================] - 2s 30us/step - loss: 0.0532 - acc: 0.9862 - val_loss: 0.0802 - val_acc: 0.9768\n",
      "Epoch 46/50\n",
      "60000/60000 [==============================] - 2s 30us/step - loss: 0.0521 - acc: 0.9866 - val_loss: 0.0795 - val_acc: 0.9764\n",
      "Epoch 47/50\n",
      "60000/60000 [==============================] - 2s 29us/step - loss: 0.0510 - acc: 0.9867 - val_loss: 0.0787 - val_acc: 0.9773\n",
      "Epoch 48/50\n",
      "60000/60000 [==============================] - 2s 30us/step - loss: 0.0499 - acc: 0.9872 - val_loss: 0.0784 - val_acc: 0.9770\n",
      "Epoch 49/50\n",
      "60000/60000 [==============================] - 2s 30us/step - loss: 0.0488 - acc: 0.9876 - val_loss: 0.0784 - val_acc: 0.9765\n",
      "Epoch 50/50\n",
      "60000/60000 [==============================] - 2s 30us/step - loss: 0.0478 - acc: 0.9882 - val_loss: 0.0779 - val_acc: 0.9769\n"
     ]
    }
   ],
   "source": [
    "sgd = SGD(lr=lr_chosen)\n",
    "model = model_Q3()\n",
    "model.compile(loss='categorical_crossentropy',\n",
    "              optimizer=sgd,\n",
    "              metrics=['accuracy'])\n",
    "\n",
    "\n",
    "# Fit the model\n",
    "history_sgd = model.fit(x_train, y_train,\n",
    "                    batch_size=batch_size,\n",
    "                    epochs=epochs,\n",
    "                    verbose=1,\n",
    "                    callbacks = None, validation_data = (x_test, y_test) )"
   ]
  },
  {
   "cell_type": "code",
   "execution_count": 79,
   "metadata": {},
   "outputs": [
    {
     "name": "stdout",
     "output_type": "stream",
     "text": [
      "Train on 60000 samples, validate on 10000 samples\n",
      "Epoch 1/50\n",
      "60000/60000 [==============================] - 5s 77us/step - loss: 0.3821 - acc: 0.9004 - val_loss: 0.2188 - val_acc: 0.9384\n",
      "Epoch 2/50\n",
      "60000/60000 [==============================] - 3s 46us/step - loss: 0.2445 - acc: 0.9331 - val_loss: 0.2408 - val_acc: 0.9345\n",
      "Epoch 3/50\n",
      "60000/60000 [==============================] - 2s 38us/step - loss: 0.2300 - acc: 0.9400 - val_loss: 0.2298 - val_acc: 0.9457\n",
      "Epoch 4/50\n",
      "60000/60000 [==============================] - 2s 36us/step - loss: 0.2257 - acc: 0.9429 - val_loss: 0.2815 - val_acc: 0.9375\n",
      "Epoch 5/50\n",
      "60000/60000 [==============================] - 2s 36us/step - loss: 0.2338 - acc: 0.9432 - val_loss: 0.2942 - val_acc: 0.9380\n",
      "Epoch 6/50\n",
      "60000/60000 [==============================] - 3s 44us/step - loss: 0.2354 - acc: 0.9449 - val_loss: 0.2667 - val_acc: 0.9432\n",
      "Epoch 7/50\n",
      "60000/60000 [==============================] - 2s 37us/step - loss: 0.2190 - acc: 0.9473 - val_loss: 0.2703 - val_acc: 0.9410\n",
      "Epoch 8/50\n",
      "60000/60000 [==============================] - 2s 38us/step - loss: 0.2250 - acc: 0.9477 - val_loss: 0.3535 - val_acc: 0.9372\n",
      "Epoch 9/50\n",
      "60000/60000 [==============================] - 2s 37us/step - loss: 0.2262 - acc: 0.9474 - val_loss: 0.2801 - val_acc: 0.9446\n",
      "Epoch 10/50\n",
      "60000/60000 [==============================] - 2s 40us/step - loss: 0.2246 - acc: 0.9488 - val_loss: 0.2694 - val_acc: 0.9443\n",
      "Epoch 11/50\n",
      "60000/60000 [==============================] - 3s 47us/step - loss: 0.2152 - acc: 0.9506 - val_loss: 0.3109 - val_acc: 0.9433\n",
      "Epoch 12/50\n",
      "60000/60000 [==============================] - 2s 38us/step - loss: 0.2178 - acc: 0.9498 - val_loss: 0.3291 - val_acc: 0.9375\n",
      "Epoch 13/50\n",
      "60000/60000 [==============================] - 3s 43us/step - loss: 0.2337 - acc: 0.9488 - val_loss: 0.3182 - val_acc: 0.9447\n",
      "Epoch 14/50\n",
      "60000/60000 [==============================] - 3s 42us/step - loss: 0.2324 - acc: 0.9506 - val_loss: 0.3734 - val_acc: 0.9423\n",
      "Epoch 15/50\n",
      "60000/60000 [==============================] - 2s 35us/step - loss: 0.2411 - acc: 0.9496 - val_loss: 0.3106 - val_acc: 0.9424\n",
      "Epoch 16/50\n",
      "60000/60000 [==============================] - 2s 36us/step - loss: 0.2275 - acc: 0.9514 - val_loss: 0.3460 - val_acc: 0.9390\n",
      "Epoch 17/50\n",
      "60000/60000 [==============================] - 2s 36us/step - loss: 0.2347 - acc: 0.9512 - val_loss: 0.3847 - val_acc: 0.9387\n",
      "Epoch 18/50\n",
      "60000/60000 [==============================] - 2s 39us/step - loss: 0.2173 - acc: 0.9533 - val_loss: 0.3486 - val_acc: 0.9450\n",
      "Epoch 19/50\n",
      "60000/60000 [==============================] - 2s 37us/step - loss: 0.2269 - acc: 0.9530 - val_loss: 0.3446 - val_acc: 0.9460\n",
      "Epoch 20/50\n",
      "60000/60000 [==============================] - 2s 36us/step - loss: 0.2448 - acc: 0.9499 - val_loss: 0.3687 - val_acc: 0.9408\n",
      "Epoch 21/50\n",
      "60000/60000 [==============================] - 2s 37us/step - loss: 0.2240 - acc: 0.9520 - val_loss: 0.3795 - val_acc: 0.9337\n",
      "Epoch 22/50\n",
      "60000/60000 [==============================] - 2s 38us/step - loss: 0.2347 - acc: 0.9530 - val_loss: 0.3883 - val_acc: 0.9424\n",
      "Epoch 23/50\n",
      "60000/60000 [==============================] - 2s 37us/step - loss: 0.2520 - acc: 0.9516 - val_loss: 0.4377 - val_acc: 0.9314\n",
      "Epoch 24/50\n",
      "60000/60000 [==============================] - 2s 38us/step - loss: 0.2577 - acc: 0.9488 - val_loss: 0.3625 - val_acc: 0.9374\n",
      "Epoch 25/50\n",
      "60000/60000 [==============================] - 2s 38us/step - loss: 0.2423 - acc: 0.9524 - val_loss: 0.3520 - val_acc: 0.9447\n",
      "Epoch 26/50\n",
      "60000/60000 [==============================] - 2s 36us/step - loss: 0.2498 - acc: 0.9512 - val_loss: 0.4034 - val_acc: 0.9394\n",
      "Epoch 27/50\n",
      "60000/60000 [==============================] - 2s 41us/step - loss: 0.2541 - acc: 0.9507 - val_loss: 0.4286 - val_acc: 0.9323\n",
      "Epoch 28/50\n",
      "60000/60000 [==============================] - 3s 47us/step - loss: 0.2656 - acc: 0.9507 - val_loss: 0.4243 - val_acc: 0.9415\n",
      "Epoch 29/50\n",
      "60000/60000 [==============================] - 3s 42us/step - loss: 0.2504 - acc: 0.9515 - val_loss: 0.3961 - val_acc: 0.9426\n",
      "Epoch 30/50\n",
      "60000/60000 [==============================] - 2s 37us/step - loss: 0.2738 - acc: 0.9485 - val_loss: 0.4380 - val_acc: 0.9347\n",
      "Epoch 31/50\n",
      "60000/60000 [==============================] - 2s 37us/step - loss: 0.2744 - acc: 0.9493 - val_loss: 0.4197 - val_acc: 0.9352\n",
      "Epoch 32/50\n",
      "60000/60000 [==============================] - 2s 36us/step - loss: 0.2558 - acc: 0.9514 - val_loss: 0.3956 - val_acc: 0.9348\n",
      "Epoch 33/50\n",
      "60000/60000 [==============================] - 3s 51us/step - loss: 0.2467 - acc: 0.9476 - val_loss: 0.4342 - val_acc: 0.9275\n",
      "Epoch 34/50\n",
      "60000/60000 [==============================] - 3s 43us/step - loss: 0.2523 - acc: 0.9522 - val_loss: 0.4377 - val_acc: 0.9358\n",
      "Epoch 35/50\n",
      "60000/60000 [==============================] - 3s 43us/step - loss: 0.2737 - acc: 0.9476 - val_loss: 0.4461 - val_acc: 0.9328\n",
      "Epoch 36/50\n",
      "60000/60000 [==============================] - 2s 41us/step - loss: 0.2625 - acc: 0.9509 - val_loss: 0.4331 - val_acc: 0.9382\n",
      "Epoch 37/50\n",
      "60000/60000 [==============================] - 3s 46us/step - loss: 0.2593 - acc: 0.9491 - val_loss: 0.4768 - val_acc: 0.9392\n",
      "Epoch 38/50\n",
      "60000/60000 [==============================] - 3s 45us/step - loss: 0.2448 - acc: 0.9517 - val_loss: 0.4131 - val_acc: 0.9435\n",
      "Epoch 39/50\n",
      "60000/60000 [==============================] - 3s 42us/step - loss: 0.2405 - acc: 0.9515 - val_loss: 0.4103 - val_acc: 0.9339\n",
      "Epoch 40/50\n",
      "60000/60000 [==============================] - 2s 37us/step - loss: 0.2601 - acc: 0.9494 - val_loss: 0.4057 - val_acc: 0.9369\n",
      "Epoch 41/50\n",
      "60000/60000 [==============================] - 2s 38us/step - loss: 0.2791 - acc: 0.9479 - val_loss: 0.4675 - val_acc: 0.9365\n",
      "Epoch 42/50\n",
      "60000/60000 [==============================] - 2s 38us/step - loss: 0.2833 - acc: 0.9500 - val_loss: 0.4093 - val_acc: 0.9331\n",
      "Epoch 43/50\n",
      "60000/60000 [==============================] - 2s 40us/step - loss: 0.2662 - acc: 0.9492 - val_loss: 0.4962 - val_acc: 0.9320\n",
      "Epoch 44/50\n",
      "60000/60000 [==============================] - 2s 39us/step - loss: 0.2682 - acc: 0.9501 - val_loss: 0.4458 - val_acc: 0.9364\n",
      "Epoch 45/50\n",
      "60000/60000 [==============================] - 2s 40us/step - loss: 0.2497 - acc: 0.9511 - val_loss: 0.4344 - val_acc: 0.9350\n",
      "Epoch 46/50\n",
      "60000/60000 [==============================] - 2s 37us/step - loss: 0.2705 - acc: 0.9519 - val_loss: 0.4837 - val_acc: 0.9360\n",
      "Epoch 47/50\n",
      "60000/60000 [==============================] - 2s 40us/step - loss: 0.2626 - acc: 0.9518 - val_loss: 0.4609 - val_acc: 0.9409\n",
      "Epoch 48/50\n",
      "60000/60000 [==============================] - 2s 40us/step - loss: 0.2810 - acc: 0.9499 - val_loss: 0.4425 - val_acc: 0.9391\n",
      "Epoch 49/50\n",
      "60000/60000 [==============================] - 2s 39us/step - loss: 0.2886 - acc: 0.9519 - val_loss: 0.4724 - val_acc: 0.9377\n",
      "Epoch 50/50\n",
      "60000/60000 [==============================] - 3s 42us/step - loss: 0.2709 - acc: 0.9481 - val_loss: 0.4578 - val_acc: 0.9365\n"
     ]
    }
   ],
   "source": [
    "adm = Adam(lr=lr_chosen)\n",
    "model = model_Q3()\n",
    "model.compile(loss='categorical_crossentropy',\n",
    "              optimizer=adm,\n",
    "              metrics=['accuracy'])\n",
    "\n",
    "\n",
    "# Fit the model\n",
    "history_adam = model.fit(x_train, y_train,\n",
    "                    batch_size=batch_size,\n",
    "                    epochs=epochs,\n",
    "                    verbose=1,\n",
    "                    callbacks = None, validation_data = (x_test, y_test) )\n"
   ]
  },
  {
   "cell_type": "code",
   "execution_count": 92,
   "metadata": {
    "ExecuteTime": {
     "end_time": "2018-02-23T15:42:45.497806Z",
     "start_time": "2018-02-23T15:42:44.961166Z"
    }
   },
   "outputs": [],
   "source": [
    "# This plotting routine might help you ...\n",
    "def comparison_plot(history_sgd, history_adam, label1, label2, title):\n",
    "    fig, ax1, ax2 = prepare_standardplot(title, \"epochs\")\n",
    "    \n",
    "    ax1.plot(history_sgd.history['loss'], label=label1 + ' training' )\n",
    "    ax1.plot(history_sgd.history['val_loss'], label=label1 + ' validation')\n",
    "    ax1.plot(history_adam.history['loss'], label=label2 + ' training')\n",
    "    ax1.plot(history_adam.history['val_loss'], label=label2 + ' validation')\n",
    "    ax1.legend(loc='lower left')\n",
    "    \n",
    "    ax2.plot(history_sgd.history['acc'], label=label1 + ' training')\n",
    "    ax2.plot(history_sgd.history['val_acc'], label=label1 + ' validation')\n",
    "    ax2.plot(history_adam.history['acc'], label=label2 + ' training')\n",
    "    ax2.plot(history_adam.history['val_acc'], label=label2 + ' validation')\n",
    "    ax2.legend(loc='lower left')\n",
    "    \n",
    "    finalize_standardplot(fig, ax1, ax2)\n",
    "    return fig"
   ]
  },
  {
   "cell_type": "code",
   "execution_count": 93,
   "metadata": {},
   "outputs": [
    {
     "data": {
      "image/png": "[encoded data removed]",
      "text/plain": [
       "<Figure size 432x288 with 2 Axes>"
      ]
     },
     "metadata": {
      "needs_background": "light"
     },
     "output_type": "display_data"
    }
   ],
   "source": [
    "comparison_plot(history_sgd, history_adam, 'SGD_LR'+str(lr_chosen), 'Adam_LR'+str(lr_chosen), 'Learning Curves SGD vs Adam' );"
   ]
  },
  {
   "cell_type": "markdown",
   "metadata": {},
   "source": [
    "**Question**: What happens if the learning rate of SGD is A) very large B) very small? Please answer A) and B) with one full sentence each (double click this markdown cell to edit).\n",
    "\n",
    "**Answer**:\n",
    "\n",
    "A)It overshoots the minimum of the error function and loss starts to increase after some epochs.\n",
    "\n",
    "B)It takes very long time (too much epochs) for SGD to converge the minimum of the error curve.\n",
    "\n",
    "**Question**: At which epoch (approximately) does the Adam optimizer start to overfit (on MNIST)? Please answer with one full sentence.\n",
    "\n",
    "**Answer**: It starts overfitting apporoximately in 15th epoch; after 20 more reliably.\n",
    "\n",
    "**Question**: Explain the qualitative difference between the loss curves and the accuracy curves with respect to signs of overfitting. Please answer with at most 3 full sentences.\n",
    "\n",
    "**Answer**: For loss curves, training loss approaches to zero when number of epochs increases so does validation loss but validation loss starts to increase again when overfitting begins. For accuracy curves, both increases until overfitting begins. Training accuracy approaches to 100 while validation accuracy stays stable or decreases."
   ]
  },
  {
   "cell_type": "markdown",
   "metadata": {},
   "source": [
    "## Exercise 4: Model performance as a function of number of hidden neurons (8 points)\n",
    "\n",
    "### Description\n",
    "\n",
    "Investigate how the best validation loss and accuracy depends on the number of hidden neurons in a single layer.\n",
    "\n",
    "1. Fit a reasonable number of models (e.g. 5) with different hidden layer sizes (between 10 and 1000 hidden neurons) to the MNIST dataset. You may use the Adam optimizer and a meaningful number of epochs (overfitting!). (3 pts)\n",
    "2. Plot the best validation loss and accuracy versus the number of hidden neurons. Is the observed trend in accordance with the [general approximation theorem](https://en.wikipedia.org/wiki/Universal_approximation_theorem)? If not, what might be practical reasons for the deviation? (2 sentences max.) (3 pts)\n",
    "3. Repeat steps 1. & 2. for the Fashion-MNIST dataset. (2 pts)\n",
    "\n",
    "In this exercise we fit each model only for one initialization and random seed. In practice one would collect some statistics (e.g. 25-, 50-, 75-percentiles) for each layer size by fitting each model several times with different initializations and the random seeds. You may also want to do this here. It is a good exercise, but not mandatory as it takes quite a bit of computation time.\n",
    "\n",
    "### Solution"
   ]
  },
  {
   "cell_type": "code",
   "execution_count": 106,
   "metadata": {
    "ExecuteTime": {
     "end_time": "2018-02-23T14:58:15.181352Z",
     "start_time": "2018-02-23T14:31:52.623267Z"
    }
   },
   "outputs": [
    {
     "name": "stdout",
     "output_type": "stream",
     "text": [
      "_________________________________________________________________\n",
      "Layer (type)                 Output Shape              Param #   \n",
      "=================================================================\n",
      "dense_55 (Dense)             (None, 10)                7850      \n",
      "_________________________________________________________________\n",
      "dense_56 (Dense)             (None, 10)                110       \n",
      "=================================================================\n",
      "Total params: 7,960\n",
      "Trainable params: 7,960\n",
      "Non-trainable params: 0\n",
      "_________________________________________________________________\n",
      "Train on 60000 samples, validate on 10000 samples\n",
      "Epoch 1/15\n",
      "60000/60000 [==============================] - 4s 68us/step - loss: 0.7812 - acc: 0.7752 - val_loss: 0.3982 - val_acc: 0.8899\n",
      "Epoch 2/15\n",
      "60000/60000 [==============================] - 2s 25us/step - loss: 0.3637 - acc: 0.8950 - val_loss: 0.3222 - val_acc: 0.9095\n",
      "Epoch 3/15\n",
      "60000/60000 [==============================] - 2s 25us/step - loss: 0.3148 - acc: 0.9100 - val_loss: 0.2944 - val_acc: 0.9163\n",
      "Epoch 4/15\n",
      "60000/60000 [==============================] - 2s 25us/step - loss: 0.2904 - acc: 0.9164 - val_loss: 0.2792 - val_acc: 0.9223\n",
      "Epoch 5/15\n",
      "60000/60000 [==============================] - 2s 25us/step - loss: 0.2754 - acc: 0.9213 - val_loss: 0.2696 - val_acc: 0.9220\n",
      "Epoch 6/15\n",
      "60000/60000 [==============================] - 1s 25us/step - loss: 0.2636 - acc: 0.9247 - val_loss: 0.2647 - val_acc: 0.9240\n",
      "Epoch 7/15\n",
      "60000/60000 [==============================] - 2s 26us/step - loss: 0.2542 - acc: 0.9277 - val_loss: 0.2532 - val_acc: 0.9284\n",
      "Epoch 8/15\n",
      "60000/60000 [==============================] - 2s 25us/step - loss: 0.2460 - acc: 0.9305 - val_loss: 0.2480 - val_acc: 0.9272\n",
      "_________________________________________________________________\n",
      "Layer (type)                 Output Shape              Param #   \n",
      "=================================================================\n",
      "dense_57 (Dense)             (None, 100)               78500     \n",
      "_________________________________________________________________\n",
      "dense_58 (Dense)             (None, 10)                1010      \n",
      "=================================================================\n",
      "Total params: 79,510\n",
      "Trainable params: 79,510\n",
      "Non-trainable params: 0\n",
      "_________________________________________________________________\n",
      "Train on 60000 samples, validate on 10000 samples\n",
      "Epoch 1/15\n",
      "60000/60000 [==============================] - 5s 81us/step - loss: 0.2416 - acc: 0.9277 - val_loss: 0.1397 - val_acc: 0.9598\n",
      "Epoch 2/15\n",
      "60000/60000 [==============================] - 2s 39us/step - loss: 0.1189 - acc: 0.9660 - val_loss: 0.1121 - val_acc: 0.9670\n",
      "Epoch 3/15\n",
      "60000/60000 [==============================] - 2s 38us/step - loss: 0.0901 - acc: 0.9737 - val_loss: 0.0965 - val_acc: 0.9723\n",
      "Epoch 4/15\n",
      "60000/60000 [==============================] - 2s 37us/step - loss: 0.0732 - acc: 0.9788 - val_loss: 0.0861 - val_acc: 0.9745\n",
      "Epoch 5/15\n",
      "60000/60000 [==============================] - 2s 37us/step - loss: 0.0607 - acc: 0.9827 - val_loss: 0.0848 - val_acc: 0.9725\n",
      "_________________________________________________________________\n",
      "Layer (type)                 Output Shape              Param #   \n",
      "=================================================================\n",
      "dense_59 (Dense)             (None, 250)               196250    \n",
      "_________________________________________________________________\n",
      "dense_60 (Dense)             (None, 10)                2510      \n",
      "=================================================================\n",
      "Total params: 198,760\n",
      "Trainable params: 198,760\n",
      "Non-trainable params: 0\n",
      "_________________________________________________________________\n",
      "Train on 60000 samples, validate on 10000 samples\n",
      "Epoch 1/15\n",
      "60000/60000 [==============================] - 6s 104us/step - loss: 0.2056 - acc: 0.9384 - val_loss: 0.1131 - val_acc: 0.9666\n",
      "Epoch 2/15\n",
      "60000/60000 [==============================] - 3s 53us/step - loss: 0.0875 - acc: 0.9740 - val_loss: 0.0872 - val_acc: 0.9718\n",
      "Epoch 3/15\n",
      "60000/60000 [==============================] - 3s 57us/step - loss: 0.0603 - acc: 0.9823 - val_loss: 0.0705 - val_acc: 0.9777\n",
      "Epoch 4/15\n",
      "60000/60000 [==============================] - 4s 60us/step - loss: 0.0444 - acc: 0.9875 - val_loss: 0.0687 - val_acc: 0.9779\n",
      "Epoch 5/15\n",
      "60000/60000 [==============================] - 3s 53us/step - loss: 0.0338 - acc: 0.9908 - val_loss: 0.0675 - val_acc: 0.9783\n",
      "Epoch 6/15\n",
      "60000/60000 [==============================] - 4s 62us/step - loss: 0.0260 - acc: 0.9933 - val_loss: 0.0658 - val_acc: 0.9789\n",
      "Epoch 7/15\n",
      "60000/60000 [==============================] - 3s 58us/step - loss: 0.0206 - acc: 0.9948 - val_loss: 0.0599 - val_acc: 0.9818\n",
      "Epoch 8/15\n",
      "60000/60000 [==============================] - 3s 55us/step - loss: 0.0155 - acc: 0.9963 - val_loss: 0.0672 - val_acc: 0.9793\n",
      "_________________________________________________________________\n",
      "Layer (type)                 Output Shape              Param #   \n",
      "=================================================================\n",
      "dense_61 (Dense)             (None, 500)               392500    \n",
      "_________________________________________________________________\n",
      "dense_62 (Dense)             (None, 10)                5010      \n",
      "=================================================================\n",
      "Total params: 397,510\n",
      "Trainable params: 397,510\n",
      "Non-trainable params: 0\n",
      "_________________________________________________________________\n",
      "Train on 60000 samples, validate on 10000 samples\n",
      "Epoch 1/15\n",
      "60000/60000 [==============================] - 9s 151us/step - loss: 0.1848 - acc: 0.9443 - val_loss: 0.0977 - val_acc: 0.9702\n",
      "Epoch 2/15\n",
      "60000/60000 [==============================] - 5s 88us/step - loss: 0.0721 - acc: 0.9784 - val_loss: 0.0797 - val_acc: 0.9761\n",
      "Epoch 3/15\n",
      "60000/60000 [==============================] - 5s 88us/step - loss: 0.0463 - acc: 0.9865 - val_loss: 0.0617 - val_acc: 0.9811\n",
      "Epoch 4/15\n",
      "60000/60000 [==============================] - 5s 88us/step - loss: 0.0319 - acc: 0.9905 - val_loss: 0.0605 - val_acc: 0.9812\n",
      "Epoch 5/15\n",
      "60000/60000 [==============================] - 5s 90us/step - loss: 0.0226 - acc: 0.9940 - val_loss: 0.0618 - val_acc: 0.9818\n",
      "Epoch 6/15\n",
      "60000/60000 [==============================] - 5s 89us/step - loss: 0.0163 - acc: 0.9959 - val_loss: 0.0570 - val_acc: 0.9824\n",
      "Epoch 7/15\n",
      "60000/60000 [==============================] - 5s 90us/step - loss: 0.0116 - acc: 0.9975 - val_loss: 0.0611 - val_acc: 0.9809\n",
      "_________________________________________________________________\n",
      "Layer (type)                 Output Shape              Param #   \n",
      "=================================================================\n",
      "dense_63 (Dense)             (None, 1000)              785000    \n",
      "_________________________________________________________________\n",
      "dense_64 (Dense)             (None, 10)                10010     \n",
      "=================================================================\n",
      "Total params: 795,010\n",
      "Trainable params: 795,010\n",
      "Non-trainable params: 0\n",
      "_________________________________________________________________\n",
      "Train on 60000 samples, validate on 10000 samples\n",
      "Epoch 1/15\n",
      "60000/60000 [==============================] - 15s 246us/step - loss: 0.1716 - acc: 0.9469 - val_loss: 0.0868 - val_acc: 0.9729\n",
      "Epoch 2/15\n",
      "60000/60000 [==============================] - 11s 184us/step - loss: 0.0620 - acc: 0.9809 - val_loss: 0.0690 - val_acc: 0.9783\n",
      "Epoch 3/15\n",
      "60000/60000 [==============================] - 11s 177us/step - loss: 0.0366 - acc: 0.9894 - val_loss: 0.0589 - val_acc: 0.9816\n",
      "Epoch 4/15\n",
      "60000/60000 [==============================] - 10s 171us/step - loss: 0.0244 - acc: 0.9933 - val_loss: 0.0583 - val_acc: 0.9820\n",
      "Epoch 5/15\n",
      "60000/60000 [==============================] - 10s 168us/step - loss: 0.0160 - acc: 0.9960 - val_loss: 0.0608 - val_acc: 0.9815\n",
      "Epoch 6/15\n",
      "60000/60000 [==============================] - 10s 167us/step - loss: 0.0120 - acc: 0.9970 - val_loss: 0.0611 - val_acc: 0.9821\n",
      "Epoch 7/15\n",
      "60000/60000 [==============================] - 10s 170us/step - loss: 0.0082 - acc: 0.9983 - val_loss: 0.0604 - val_acc: 0.9826\n",
      "Epoch 8/15\n",
      "60000/60000 [==============================] - 11s 185us/step - loss: 0.0056 - acc: 0.9989 - val_loss: 0.0658 - val_acc: 0.9811\n"
     ]
    }
   ],
   "source": [
    "# Part 1\n",
    "\n",
    "#The number of neurons in the hidden layers\n",
    "neuron_counts = [10, 100, 250, 500, 1000]\n",
    "adm = Adam(lr= 0.001)\n",
    "batch_size = 128\n",
    "epochs = 15\n",
    "\n",
    "\n",
    "\n",
    "#Keep history for the next part\n",
    "histories = []\n",
    "\n",
    "# Fit the model for different hidden neuron counts\n",
    "for num_hidden in neuron_counts:\n",
    "    \n",
    "    # Create the model\n",
    "    model = Sequential()\n",
    "\n",
    "    # Add the layers\n",
    "    model.add(Dense(num_hidden, activation='relu', input_shape=in_shape))\n",
    "    model.add(Dense(num_classes, activation='softmax'))\n",
    "\n",
    "    # Add the optimization parameters to the model\n",
    "    model.compile(loss='categorical_crossentropy',\n",
    "                  optimizer=adm,\n",
    "                  metrics=['accuracy'])\n",
    "    \n",
    "    # Model summary\n",
    "    model.summary()\n",
    "    # Fit the model\n",
    "    \n",
    "    histories.append( model.fit(x_train, y_train,\n",
    "                    batch_size=batch_size,\n",
    "                    epochs=epochs,\n",
    "                    verbose=1,\n",
    "                    callbacks = callbacks, validation_data = (x_test, y_test) )\n",
    "                    )\n"
   ]
  },
  {
   "cell_type": "code",
   "execution_count": 107,
   "metadata": {},
   "outputs": [
    {
     "data": {
      "image/png": "[encoded data removed]",
      "text/plain": [
       "<Figure size 432x288 with 2 Axes>"
      ]
     },
     "metadata": {
      "needs_background": "light"
     },
     "output_type": "display_data"
    }
   ],
   "source": [
    "# Part 2\n",
    "\n",
    "# Variables to hold validation loss and accuracy maximums\n",
    "val_loss_max = []\n",
    "val_acc_max = []\n",
    "\n",
    "for history in histories:\n",
    "    val_loss_max.append(min(history.history['val_loss']))\n",
    "    val_acc_max.append(max(history.history['val_acc']))\n",
    "    \n",
    "# Plot the results\n",
    "fig, ax1, ax2 = prepare_standardplot('Validation Performance', 'Number of Hidden Neurons')\n",
    "ax1.plot(neuron_counts, val_loss_max, label = \"Validation Loss\")\n",
    "ax2.plot(neuron_counts, val_acc_max, label = \"Validation Accuracy\")\n",
    "#ax1.set_xscale('log')\n",
    "#ax2.set_xscale('log')\n",
    "finalize_standardplot(fig, ax1, ax2)"
   ]
  },
  {
   "cell_type": "code",
   "execution_count": null,
   "metadata": {},
   "outputs": [],
   "source": [
    "# Part 3"
   ]
  },
  {
   "cell_type": "markdown",
   "metadata": {},
   "source": [
    "Answer to question 2:"
   ]
  },
  {
   "cell_type": "markdown",
   "metadata": {},
   "source": []
  },
  {
   "cell_type": "markdown",
   "metadata": {},
   "source": [
    "## Exercise 5: Going deeper: tricks and regularization (8 points)\n",
    "\n",
    "### Description\n",
    "\n",
    "Adding hidden layers to a deep network does not necessarily lead to a straight-forward improvement of performance. Overfitting can be counteracted with regularization and dropout. Batch normalization is supposed to mainly speed up convergence. Since the MNIST dataset is almost perfectly solved already by a one-hidden-layer network we use the Fashion-MNIST dataset in this exercise.\n",
    "\n",
    "1. Add one or two hidden layers with 50 hidden neurons (each) and train the network for a sufficiently long time (at least 100 epochs). Since deep models are very expressive you will most probably encounter overfitting. Try to improve the best validation scores of the model (even if it is only a minor improvement) by experimenting with batch_normalization layers, dropout layers and l1- and l2-regularization on weights (kernels) and biases. (4 pts)\n",
    "2. After you have found good settings, plot the learning curves for both models, naive (=no tricks/regularization) and tuned (=tricks + regularized), preferably together in a comparison plot. Discuss your results; refer to the model performance with only 1 hidden layer. (2 sentences max.) (2pts)\n",
    "3. Fit your best performing (probably regularized deep) model also to MNIST for having a reference for the next exercise. Plot the resulting learning curves. (2 pts)\n",
    "\n",
    "### Solution"
   ]
  },
  {
   "cell_type": "code",
   "execution_count": 116,
   "metadata": {
    "ExecuteTime": {
     "end_time": "2018-02-23T16:26:50.480763Z",
     "start_time": "2018-02-23T16:06:32.938435Z"
    }
   },
   "outputs": [],
   "source": [
    "adm = Adam(lr = 0.001)\n",
    "num_classes = 10\n",
    "in_shape = x_fashion_train[0].shape\n",
    "batch_size = 128\n",
    "epochs = 100"
   ]
  },
  {
   "cell_type": "code",
   "execution_count": 117,
   "metadata": {},
   "outputs": [],
   "source": [
    "drop_out = [False, True]\n",
    "batch_norm = [False, True]\n",
    "l2_reg= [False, True]"
   ]
  },
  {
   "cell_type": "code",
   "execution_count": null,
   "metadata": {},
   "outputs": [
    {
     "name": "stdout",
     "output_type": "stream",
     "text": [
      "Train on 60000 samples, validate on 10000 samples\n",
      "Epoch 1/100\n",
      "60000/60000 [==============================] - 7s 124us/step - loss: 1.9858 - acc: 0.7031 - val_loss: 1.2841 - val_acc: 0.7287\n",
      "Epoch 2/100\n",
      "60000/60000 [==============================] - 2s 35us/step - loss: 1.2036 - acc: 0.7456 - val_loss: 1.1686 - val_acc: 0.7476\n",
      "Epoch 3/100\n",
      "60000/60000 [==============================] - 2s 35us/step - loss: 1.1358 - acc: 0.7543 - val_loss: 1.1215 - val_acc: 0.7522\n",
      "Epoch 4/100\n",
      "60000/60000 [==============================] - 2s 36us/step - loss: 1.0968 - acc: 0.7599 - val_loss: 1.1182 - val_acc: 0.7542\n",
      "Epoch 5/100\n",
      "60000/60000 [==============================] - 2s 38us/step - loss: 1.0672 - acc: 0.7649 - val_loss: 1.0548 - val_acc: 0.7660\n",
      "Epoch 6/100\n",
      "60000/60000 [==============================] - 2s 37us/step - loss: 1.0393 - acc: 0.7655 - val_loss: 1.0437 - val_acc: 0.7659\n",
      "Epoch 7/100\n",
      "60000/60000 [==============================] - 2s 37us/step - loss: 1.0187 - acc: 0.7691 - val_loss: 1.0281 - val_acc: 0.7612\n",
      "Epoch 8/100\n",
      "18816/60000 [========>.....................] - ETA: 1s - loss: 1.0091 - acc: 0.7671"
     ]
    }
   ],
   "source": [
    "histories = []\n",
    "for dr in drop_out:\n",
    "    for bn in batch_norm:\n",
    "        for l_2 in l2_reg:\n",
    "                # Create the model\n",
    "                model = Sequential()\n",
    "                if l_2:\n",
    "                    if bn:\n",
    "                        model.add(Dense(50, activation='relu', input_shape=in_shape, bias_initializer = RandomNormal(),\n",
    "                                   kernel_regularizer = l2()))\n",
    "                        model.add(BatchNormalization())\n",
    "                        model.add(Dense(50, activation='relu', bias_initializer = RandomNormal(), \n",
    "                                    kernel_regularizer = l2()))\n",
    "                        model.add(BatchNormalization())\n",
    "                    else :\n",
    "                        model.add(Dense(50, activation='relu', input_shape=in_shape, bias_initializer = RandomNormal(),\n",
    "                                   kernel_regularizer = l2()))\n",
    "                        model.add(Dense(50, activation='relu', bias_initializer = RandomNormal(), \n",
    "                                    kernel_regularizer = l2()))\n",
    "                else:\n",
    "                    if bn:\n",
    "                        model.add(Dense(50, activation='relu', input_shape=in_shape, bias_initializer = RandomNormal(),\n",
    "                                   kernel_regularizer = l1()))\n",
    "                        model.add(BatchNormalization())\n",
    "                        model.add(Dense(50, activation='relu', bias_initializer = RandomNormal(),\n",
    "                                   kernel_regularizer = l1()))\n",
    "                        model.add(BatchNormalization())\n",
    "                    else:\n",
    "                        model.add(Dense(50, activation='relu', input_shape=in_shape, bias_initializer = RandomNormal(),\n",
    "                                   kernel_regularizer = l1()))\n",
    "                        model.add(Dense(50, activation='relu', bias_initializer = RandomNormal(),\n",
    "                                   kernel_regularizer = l1()))            \n",
    "                \n",
    "                if dr:\n",
    "                    model.add(Dropout(0.5))\n",
    "                \n",
    "                model.add(Dense(num_classes, activation='softmax'))\n",
    "\n",
    "                # Add the optimization parameters to the model\n",
    "                model.compile(loss='categorical_crossentropy',\n",
    "                      optimizer=adm,\n",
    "                      metrics=['accuracy'])\n",
    "                \n",
    "                hist = model.fit(x_fashion_train,y_fashion_train,\n",
    "                          batch_size=batch_size,\n",
    "                          epochs=epochs,\n",
    "                        verbose=1,\n",
    "                        callbacks = callbacks, validation_data = (x_fashion_test, y_fashion_test) )\n",
    "                    \n",
    "                histories.append(hist)"
   ]
  },
  {
   "cell_type": "markdown",
   "metadata": {},
   "source": [
    "Answer to question 2 (comments):"
   ]
  },
  {
   "cell_type": "markdown",
   "metadata": {},
   "source": []
  },
  {
   "cell_type": "code",
   "execution_count": null,
   "metadata": {},
   "outputs": [],
   "source": [
    "model.fit()"
   ]
  },
  {
   "cell_type": "markdown",
   "metadata": {},
   "source": [
    "## Exercise 6: Convolutional neural networks (CNNs) (10 points)\n",
    "\n",
    "### Description\n",
    "\n",
    "Convolutional neural networks have an inductive bias that is well adapted to image classification.\n",
    "\n",
    "1. Design a convolutional neural network, play with different architectures and parameters. Hint: You may get valuable inspiration from the keras [examples](https://github.com/keras-team/keras/tree/master/examples). (4 pts)\n",
    "2. Plot the learning curves of the convolutional neural network for MNIST and Fashion-MNIST. (4 pts)\n",
    "3. How does the CNN performance compare to the so far best performing (deep) neural network model for the two data sets? (2 sentences max.) (2 pts)\n",
    "\n",
    "### Solution"
   ]
  },
  {
   "cell_type": "code",
   "execution_count": null,
   "metadata": {
    "ExecuteTime": {
     "end_time": "2018-02-23T16:05:21.840299Z",
     "start_time": "2018-02-23T15:51:11.993053Z"
    }
   },
   "outputs": [],
   "source": []
  },
  {
   "cell_type": "markdown",
   "metadata": {},
   "source": [
    "Answer to question 3:"
   ]
  },
  {
   "cell_type": "markdown",
   "metadata": {},
   "source": []
  },
  {
   "cell_type": "markdown",
   "metadata": {},
   "source": [
    "## Exercise 7: Sigmoidal activation function and batch-normalization (6 points)\n",
    "\n",
    "### Description:\n",
    "\n",
    "In the original publication of batch normalization [Ioffe and Szegedy, 2014](https://arxiv.org/pdf/1502.03167.pdf), the authors mention a particularly beneficial effect of their method on networks with sigmoidal activation functions. This is because such networks usually suffer from saturating activations/vanishing gradients. Here we want to reproduce this behaviour (Chose either MNIST or Fashion-MNIST for this exercise).\n",
    "\n",
    "1. Implement the same convolutional network as in the previous exercise, but using the sigmoid activation function instead of the standard choice ReLU. Train the network for a reasonable amount of time. What do you observe? (1 sentence max.) (3 pts)\n",
    "2. Add batch-normalization layers to all convolutional and fully-connected layers (i.e. before each layer with learnable parameters). How does the performance change? Can the network reach the ReLU-CNN performance of the previous exercise? (1 sentence max.) (3 pts)\n",
    "3. **BONUS (optional, not graded**): Investigate our initial guess that saturating activity/vanishing gradients might be the cause of this behaviour. For that, create histograms of the hidden activitions for different hidden layers for the sigmoid-CNN and the sigmoid-CNN with batch-normalization (counting over both, samples and neurons per layer). You may only chose layers with learnable parameters. What do you observe?\n",
    "Hint: You can use the [keract](https://github.com/philipperemy/keract) package to access neural activation values for all layers of your network model.\n",
    "\n",
    "\n",
    "\n",
    "### Solution:"
   ]
  },
  {
   "cell_type": "code",
   "execution_count": null,
   "metadata": {},
   "outputs": [],
   "source": []
  },
  {
   "cell_type": "markdown",
   "metadata": {},
   "source": [
    "Answer to question 1:"
   ]
  },
  {
   "cell_type": "markdown",
   "metadata": {},
   "source": []
  },
  {
   "cell_type": "markdown",
   "metadata": {},
   "source": [
    "Answer to question 2:"
   ]
  },
  {
   "cell_type": "markdown",
   "metadata": {},
   "source": []
  }
 ],
 "metadata": {
  "kernelspec": {
   "display_name": "Python 3",
   "language": "python",
   "name": "python3"
  },
  "language_info": {
   "codemirror_mode": {
    "name": "ipython",
    "version": 3
   },
   "file_extension": ".py",
   "mimetype": "text/x-python",
   "name": "python",
   "nbconvert_exporter": "python",
   "pygments_lexer": "ipython3",
   "version": "3.6.8"
  }
 },
 "nbformat": 4,
 "nbformat_minor": 2
}
